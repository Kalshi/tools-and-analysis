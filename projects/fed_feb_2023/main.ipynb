{
 "cells": [
  {
   "cell_type": "code",
   "execution_count": 2,
   "metadata": {},
   "outputs": [],
   "source": [
    "from datetime import datetime, timezone\n",
    "\n",
    "from client.kalshi_client import AuthedApiInstance\n",
    "import numpy as np\n",
    "import seaborn as sns\n",
    "import matplotlib.pyplot as plt\n",
    "from typing import Optional\n",
    "from time import sleep\n",
    "\n",
    "# set seaborn style\n",
    "sns.set_theme()\n",
    "sns.set_style(\"dark\")\n",
    "plt.rcParams[\"figure.figsize\"] = (12,6)"
   ]
  },
  {
   "cell_type": "code",
   "execution_count": 3,
   "metadata": {},
   "outputs": [],
   "source": [
    "kalshi_api = AuthedApiInstance()"
   ]
  },
  {
   "cell_type": "code",
   "execution_count": 26,
   "metadata": {},
   "outputs": [],
   "source": [
    "def get_event_mean(markets, date: Optional[datetime] = None):\n",
    "    \"\"\"\n",
    "    Using the lower bound of each market, and the associated probability\n",
    "    that each market will payout to yes, calculate the estimated mean.\n",
    "    \"\"\"\n",
    "    sorted_markets = sorted(markets, key=lambda x: x.floor_strike, reverse=True)\n",
    "    \n",
    "    midpoints = []\n",
    "    probabilities = []\n",
    "\n",
    "    for market in sorted_markets:\n",
    "        historical_prices = kalshi_api.get_market_history(market.ticker, min_ts=int(datetime(2023, 3, 1, 0).timestamp()), limit=1000).history\n",
    "\n",
    "        sleep(0.2)\n",
    "\n",
    "        prices_before_date = [p for p in historical_prices if date is None or p.ts < date.timestamp()]\n",
    "\n",
    "        if len(prices_before_date) == 0:\n",
    "            continue\n",
    "\n",
    "        last_price = prices_before_date[-1]\n",
    "        if last_price.yes_ask == 100 and last_price.yes_bid == 0:\n",
    "            continue\n",
    "\n",
    "        unaltered_probability = (last_price.yes_bid + last_price.yes_ask) / 2\n",
    "        probabilities.append(max(0, unaltered_probability - sum(probabilities)))\n",
    "\n",
    "        # Shift by 0.125 because the markets are strictly greater than a particular\n",
    "        # rate.\n",
    "        midpoints.append(market.floor_strike + 0.125)\n",
    "    \n",
    "    if len(midpoints) == 0:\n",
    "        return 0\n",
    "    return np.average(midpoints, weights=probabilities) / sum(probabilities) * 100"
   ]
  },
  {
   "cell_type": "code",
   "execution_count": 8,
   "metadata": {},
   "outputs": [],
   "source": [
    "# Get summary statistics\n",
    "series_ticker = 'FED'\n",
    "\n",
    "markets_in_series = kalshi_api.get_markets(series_ticker=series_ticker, status=\"open\").markets\n",
    "markets_by_event = {}\n",
    "close_date_by_event = {}\n",
    "\n",
    "for market in markets_in_series:\n",
    "    event_ticker = market.event_ticker\n",
    "    if event_ticker not in markets_by_event:\n",
    "        markets_by_event[event_ticker] = []\n",
    "        close_date_by_event[event_ticker] = datetime.fromisoformat(market.close_time)\n",
    "    markets_by_event[event_ticker].append(market)"
   ]
  },
  {
   "cell_type": "code",
   "execution_count": 28,
   "metadata": {},
   "outputs": [
    {
     "name": "stdout",
     "output_type": "stream",
     "text": [
      "Before: FED-23MAR: 5.032069897224818\n",
      "After: FED-23MAR: 5.004292820888361\n",
      "Before: FED-23MAY: 5.323729198757607\n",
      "After: FED-23MAY: 5.28517498214468\n",
      "Before: FED-23JUN: 5.624339715014559\n",
      "After: FED-23JUN: 5.414336880620475\n",
      "Before: FED-23JUL: 5.6488185730114155\n",
      "After: FED-23JUL: 5.5612100286016135\n",
      "Before: FED-23SEP: 5.953098873386145\n",
      "After: FED-23SEP: 5.990504017531044\n",
      "Before: FED-23NOV: 5.579247081862455\n",
      "After: FED-23NOV: 5.988774110467231\n",
      "Before: FED-23DEC: 5.820041232638888\n",
      "After: FED-23DEC: 5.788746006604204\n"
     ]
    }
   ],
   "source": [
    "before_nfp_release_means = {}\n",
    "after_nfp_release_means = {}\n",
    "\n",
    "for event, markets in reversed(markets_by_event.items()):\n",
    "    before_nfp_release_means[event] = get_event_mean(markets, datetime(2023, 3, 10, 3, tzinfo=timezone.utc))\n",
    "    after_nfp_release_means[event] = get_event_mean(markets, None)\n",
    "\n",
    "    print(f\"Before: {event}: {before_nfp_release_means[event]}\")\n",
    "    print(f\"After: {event}: {after_nfp_release_means[event]}\") "
   ]
  },
  {
   "cell_type": "code",
   "execution_count": 22,
   "metadata": {},
   "outputs": [],
   "source": [
    "def plot_means(before, after):\n",
    "    #initialize a plot\n",
    "    ax = plt.figure(figsize=(16,6))\n",
    "\n",
    "    dates = []\n",
    "    probabilities = []\n",
    "\n",
    "    for event, close_date in close_date_by_event.items():\n",
    "        if close_date > datetime(2023, 9, 1, tzinfo=timezone.utc):\n",
    "            continue\n",
    "\n",
    "        dates.append(close_date)\n",
    "        probabilities.append(before[event])\n",
    "\n",
    "    # #add start points\n",
    "    ax = sns.scatterplot(\n",
    "        x=dates, y=probabilities, \n",
    "                    size=10, \n",
    "                    color='black')\n",
    "\n",
    "    #add arrows to plot\n",
    "    for event in close_date_by_event.keys():\n",
    "        if close_date_by_event[event] not in dates:\n",
    "            continue\n",
    "\n",
    "        ax.arrow(close_date_by_event[event],        #x start point\n",
    "                 before[event],                      #y start point\n",
    "                 0,       #change in x \n",
    "                 after[event] - before[event],                      #change in y\n",
    "                #  head_width=0.06,         #arrow head width\n",
    "                 head_length=0.02,        #arrow head length\n",
    "                 width=0.2,              #arrow stem width\n",
    "                 fc='black',             #arrow fill color\n",
    "                 ec='black')             #arrow edge color"
   ]
  },
  {
   "cell_type": "code",
   "execution_count": 29,
   "metadata": {},
   "outputs": [
    {
     "data": {
      "image/png": "[encoded data removed]",
      "text/plain": [
       "<Figure size 1600x600 with 1 Axes>"
      ]
     },
     "metadata": {},
     "output_type": "display_data"
    }
   ],
   "source": [
    "plot_means(before_nfp_release_means, after_nfp_release_means)"
   ]
  }
 ],
 "metadata": {
  "kernelspec": {
   "display_name": "visualizations-wdO1OctC-py3.11",
   "language": "python",
   "name": "python3"
  },
  "language_info": {
   "codemirror_mode": {
    "name": "ipython",
    "version": 3
   },
   "file_extension": ".py",
   "mimetype": "text/x-python",
   "name": "python",
   "nbconvert_exporter": "python",
   "pygments_lexer": "ipython3",
   "version": "3.11.1"
  },
  "orig_nbformat": 4,
  "vscode": {
   "interpreter": {
    "hash": "7e529039fce4d54b094434b09f4ad926a3ea82149a4375155e4eef87dd3ab151"
   }
  }
 },
 "nbformat": 4,
 "nbformat_minor": 2
}
