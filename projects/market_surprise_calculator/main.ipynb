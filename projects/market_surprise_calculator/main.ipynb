{
 "cells": [
  {
   "cell_type": "code",
   "execution_count": 199,
   "metadata": {},
   "outputs": [],
   "source": [
    "from datetime import datetime, timezone\n",
    "\n",
    "from client.kalshi_client import AuthedApiInstance\n",
    "import pandas as pd\n",
    "import seaborn as sns\n",
    "import matplotlib.pyplot as plt\n",
    "from dataclasses import dataclass\n",
    "from sklearn.linear_model import LinearRegression\n",
    "from kalshi_python import Market\n",
    "import yfinance as yf\n",
    "\n",
    "# set seaborn style\n",
    "sns.set_theme()\n",
    "sns.set_style(\"dark\")\n",
    "plt.rcParams[\"figure.figsize\"] = (12,6)"
   ]
  },
  {
   "cell_type": "code",
   "execution_count": 182,
   "metadata": {},
   "outputs": [],
   "source": [
    "kalshi_api = AuthedApiInstance()"
   ]
  },
  {
   "attachments": {},
   "cell_type": "markdown",
   "metadata": {},
   "source": [
    "### Compute Kalshi Forecasts and Historical Surprise"
   ]
  },
  {
   "cell_type": "code",
   "execution_count": 183,
   "metadata": {},
   "outputs": [],
   "source": [
    "@dataclass\n",
    "class CPIRelease:\n",
    "    \"\"\"\n",
    "    Create a single dataclass to store information about a particular CPI release.\n",
    "\n",
    "    Kalshi markets are individual binaries, of the form:\n",
    "    \"Will CPI growth be >0.5% in February?\"\n",
    "\n",
    "    That means we need to consider the pricing of several individual markets,\n",
    "    with different strikes, to compute the market conensus for a pariticular month.\n",
    "    \"\"\"\n",
    "\n",
    "    close_date: datetime\n",
    "    true_cpi_value: float\n",
    "    markets: list[Market]\n",
    "\n",
    "    def target(self, market: Market) -> float:\n",
    "        if market.floor_strike is None:\n",
    "            return float(market.subtitle.replace(\">\", \"\").replace(\"%\", \"\")) + 0.1\n",
    "        else:\n",
    "            return market.floor_strike + 0.1\n",
    "\n",
    "    def kalshi_conensus(self) -> float:\n",
    "        sorted_markets = sorted(self.markets, key=lambda x: self.target(x))\n",
    "\n",
    "        conensus = 0\n",
    "        accounted_probability = 0\n",
    "        for market in reversed(sorted_markets):\n",
    "            # Filter out illiquid markets\n",
    "            if market.yes_ask - market.yes_bid > 10:\n",
    "                continue\n",
    "            probability = (market.yes_ask + market.yes_bid) / 2\n",
    "            unaccounted_probability = max(0, probability - accounted_probability)\n",
    "\n",
    "            target = self.target(market)\n",
    "            conensus += target * unaccounted_probability / 100\n",
    "            accounted_probability += unaccounted_probability\n",
    "\n",
    "        if accounted_probability < 1:\n",
    "            conensus /= accounted_probability\n",
    "\n",
    "        return conensus"
   ]
  },
  {
   "cell_type": "code",
   "execution_count": 206,
   "metadata": {},
   "outputs": [],
   "source": [
    "# Get summary statistics\n",
    "series_ticker = 'CPI'\n",
    "\n",
    "markets_in_series = kalshi_api.get_markets(series_ticker=series_ticker, limit=1000).markets\n",
    "\n",
    "cpi_releases_by_ticker = {}\n",
    "\n",
    "for market in markets_in_series:\n",
    "    event_ticker = market.event_ticker\n",
    "\n",
    "    if \"CPI-\" not in event_ticker:\n",
    "        continue\n",
    "    if event_ticker not in cpi_releases_by_ticker:\n",
    "        close_date = datetime.fromisoformat(market.close_time)\n",
    "        true_cpi_value = float(market.expiration_value.replace(\"%\", \"\")) if market.expiration_value != \"\" else None\n",
    "\n",
    "        cpi_releases_by_ticker[event_ticker] = CPIRelease(close_date, true_cpi_value, [])\n",
    "\n",
    "    cpi_releases_by_ticker[event_ticker].markets.append(market)"
   ]
  },
  {
   "attachments": {},
   "cell_type": "markdown",
   "metadata": {},
   "source": [
    "### Compare to SPX Movements"
   ]
  },
  {
   "cell_type": "code",
   "execution_count": 207,
   "metadata": {},
   "outputs": [],
   "source": [
    "spx_prices = yf.Ticker(\"^NDX\").history(start=\"2022-01-01\", end=datetime.now().strftime(\"%Y-%m-%d\"), interval=\"1h\")\n",
    "spx_prices.index = pd.to_datetime(spx_prices.index)\n",
    "spx_prices[\"Delta\"] = spx_prices[\"Close\"] - spx_prices[\"Open\"]"
   ]
  },
  {
   "cell_type": "code",
   "execution_count": 208,
   "metadata": {},
   "outputs": [],
   "source": [
    "kalshi_surprise = []\n",
    "spx_change = []\n",
    "\n",
    "for ticker, cpi_release in cpi_releases_by_ticker.items():\n",
    "    if_future =cpi_release.close_date > datetime.now().astimezone(timezone.utc)\n",
    "    if_recent = cpi_release.close_date >= datetime(2022, 6, 1, tzinfo=timezone.utc)\n",
    "    if if_future or not if_recent:\n",
    "        continue\n",
    "\n",
    "    last_point = spx_prices[spx_prices.index < cpi_release.close_date].iloc[-1]\n",
    "    next_point = spx_prices[spx_prices.index >= cpi_release.close_date].iloc[0]\n",
    "\n",
    "    kalshi_surprise.append(cpi_release.true_cpi_value - cpi_release.kalshi_conensus())\n",
    "    spx_change.append(next_point[\"Open\"] - last_point[\"Close\"])\n",
    "\n",
    "surprise_vs_spx = pd.DataFrame({\"CPI surprise (actual - predicted)\": kalshi_surprise, \"SPX change\": spx_change})"
   ]
  },
  {
   "cell_type": "code",
   "execution_count": 209,
   "metadata": {},
   "outputs": [
    {
     "data": {
      "text/plain": [
       "<Axes: xlabel='CPI surprise (actual - predicted)', ylabel='SPX change'>"
      ]
     },
     "execution_count": 209,
     "metadata": {},
     "output_type": "execute_result"
    },
    {
     "data": {
      "image/png": "[encoded data removed]",
      "text/plain": [
       "<Figure size 1200x600 with 1 Axes>"
      ]
     },
     "metadata": {},
     "output_type": "display_data"
    }
   ],
   "source": [
    "sns.regplot(data=surprise_vs_spx, x=\"CPI surprise (actual - predicted)\", y=\"SPX change\")"
   ]
  },
  {
   "cell_type": "code",
   "execution_count": 217,
   "metadata": {},
   "outputs": [
    {
     "data": {
      "text/plain": [
       "0.7666665606385146"
      ]
     },
     "execution_count": 217,
     "metadata": {},
     "output_type": "execute_result"
    }
   ],
   "source": [
    "surprise_to_spx = LinearRegression().fit(np.array(kalshi_surprise).reshape(-1, 1), spx_change)\n",
    "\n",
    "# Check r^2 correlation - the closer this is to one, the better\n",
    "# indicator Kalshi surprise is of SPX change\n",
    "np.corrcoef(kalshi_surprise, spx_change, 1)[0, 1] ** 2"
   ]
  },
  {
   "attachments": {},
   "cell_type": "markdown",
   "metadata": {},
   "source": [
    "### SPX Calculator"
   ]
  },
  {
   "cell_type": "code",
   "execution_count": 241,
   "metadata": {},
   "outputs": [],
   "source": [
    "def predicted_spx_change(cpi_forecast_for_next_release: float) -> float:\n",
    "    \"\"\"\n",
    "    Given a CPI forecast for the next release, predict the SPX change\n",
    "    \"\"\"\n",
    "\n",
    "    future_cpi_releases = [r for r in cpi_releases_by_ticker.values() if r.close_date > datetime.now().astimezone(timezone.utc)]\n",
    "    next_cpi_release = sorted(future_cpi_releases, key=lambda x: x.close_date)[0]\n",
    "\n",
    "    kalshi_surprise = cpi_forecast_for_next_release - next_cpi_release.kalshi_conensus()\n",
    "    expected_change = surprise_to_spx.predict([[kalshi_surprise]])\n",
    "\n",
    "    print(f\"\"\"Your forecast implies market surprise of {kalshi_surprise:.2f}%. Using the regression shown above,\n",
    "              this would cause the SPX to move by approximately {expected_change[0]:.0f}.\"\"\")"
   ]
  },
  {
   "cell_type": "code",
   "execution_count": 243,
   "metadata": {},
   "outputs": [
    {
     "name": "stdout",
     "output_type": "stream",
     "text": [
      "Your forecast implies market surprise of 0.02%. Using the regression shown above,\n",
      "              this would cause the SPX to move by approximately 22.\n"
     ]
    }
   ],
   "source": [
    "# 0.5% is passed as an example, but you can pass whatever\n",
    "# you think the next CPI release will be\n",
    "predicted_spx_change(0.5)"
   ]
  }
 ],
 "metadata": {
  "kernelspec": {
   "display_name": "visualizations-wdO1OctC-py3.11",
   "language": "python",
   "name": "python3"
  },
  "language_info": {
   "codemirror_mode": {
    "name": "ipython",
    "version": 3
   },
   "file_extension": ".py",
   "mimetype": "text/x-python",
   "name": "python",
   "nbconvert_exporter": "python",
   "pygments_lexer": "ipython3",
   "version": "3.11.1"
  },
  "orig_nbformat": 4
 },
 "nbformat": 4,
 "nbformat_minor": 2
}
